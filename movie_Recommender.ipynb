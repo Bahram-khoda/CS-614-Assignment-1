{
  "nbformat": 4,
  "nbformat_minor": 0,
  "metadata": {
    "colab": {
      "provenance": [],
      "gpuType": "T4"
    },
    "kernelspec": {
      "name": "python3",
      "display_name": "Python 3"
    },
    "language_info": {
      "name": "python"
    },
    "accelerator": "GPU",
    "gpuClass": "standard"
  },
  "cells": [
    {
      "cell_type": "markdown",
      "source": [
        "The idead behind this project is to build a recommender system model that media companies such as Netflix or amazon prime can use to recommend movies to their user that are more likely to be watched by them. as we know we have three main model for recommende systems, collaborative filtering, content-based filtering, and hybrid models that combine both approaches. In this project we have implemented Collaborative filtering that uses the preferences of a group of users to make recommendations for those users. To build this recommender system, we train our model on the ratings data in the ml-20m dataset. The ml-20m dataset contains over 20 million ratings of movies by users, as well as additional information such as movie titles and user demographics. In the case of the predicting user ratings based on the ratings.csv file in the ml-20m dataset, we have taken the following steps:\n",
        "1.   Loading data\n",
        "2.   Data cleaning and EDA. However there is no need to data cleaning in this dataset. data preparation\n",
        "3. Building NN\n",
        "4. Building model and compiling it\n",
        "5. Split the data and fit.\n",
        "6. Plot the train test loss\n",
        "7. testing the model prediction with comparing the result with actual ratings\n",
        "\n"
      ],
      "metadata": {
        "id": "zucd09Yf9JHD"
      }
    },
    {
      "cell_type": "code",
      "execution_count": 2,
      "metadata": {
        "id": "uOOvbKdoIlfH"
      },
      "outputs": [],
      "source": [
        "import tensorflow as tf\n",
        "from tensorflow.keras.layers import Input, Dense, Embedding, Flatten, Concatenate\n",
        "from tensorflow.keras.models import Model\n",
        "from tensorflow.keras.optimizers import SGD, Adam\n",
        "\n",
        "from sklearn.utils import shuffle\n",
        "\n",
        "import numpy as np\n",
        "import pandas as pd\n",
        "import matplotlib.pyplot as plt\n"
      ]
    },
    {
      "cell_type": "markdown",
      "source": [
        "In case the link for our dataset changes in the future, I got my data from: https://grouplens.org/datasets/movielens/\n",
        "\n",
        "I used !Wget command-line tool to access data, that makes it possible to download files and interact with REST APIs."
      ],
      "metadata": {
        "id": "AL8bcbU2KH0N"
      }
    },
    {
      "cell_type": "code",
      "source": [
        "!wget -nc http://files.grouplens.org/datasets/movielens/ml-20m.zip"
      ],
      "metadata": {
        "colab": {
          "base_uri": "https://localhost:8080/"
        },
        "id": "K9-6ywCpJDQp",
        "outputId": "30e096a7-2a73-4763-8346-e76983a8ea78"
      },
      "execution_count": 3,
      "outputs": [
        {
          "output_type": "stream",
          "name": "stdout",
          "text": [
            "--2023-05-13 01:30:26--  http://files.grouplens.org/datasets/movielens/ml-20m.zip\n",
            "Resolving files.grouplens.org (files.grouplens.org)... 128.101.65.152\n",
            "Connecting to files.grouplens.org (files.grouplens.org)|128.101.65.152|:80... connected.\n",
            "HTTP request sent, awaiting response... 200 OK\n",
            "Length: 198702078 (189M) [application/zip]\n",
            "Saving to: ‘ml-20m.zip’\n",
            "\n",
            "ml-20m.zip          100%[===================>] 189.50M  3.23MB/s    in 29s     \n",
            "\n",
            "2023-05-13 01:30:57 (6.60 MB/s) - ‘ml-20m.zip’ saved [198702078/198702078]\n",
            "\n"
          ]
        }
      ]
    },
    {
      "cell_type": "markdown",
      "source": [
        "### Unziping the data"
      ],
      "metadata": {
        "id": "4dCEJAJqOxz6"
      }
    },
    {
      "cell_type": "code",
      "source": [
        "!unzip -n ml-20m.zip"
      ],
      "metadata": {
        "colab": {
          "base_uri": "https://localhost:8080/"
        },
        "id": "bv2czoR0MtYF",
        "outputId": "18ecd4d1-5f2f-4d62-d6b0-0bd0651312e4"
      },
      "execution_count": 4,
      "outputs": [
        {
          "output_type": "stream",
          "name": "stdout",
          "text": [
            "Archive:  ml-20m.zip\n",
            "   creating: ml-20m/\n",
            "  inflating: ml-20m/genome-scores.csv  \n",
            "  inflating: ml-20m/genome-tags.csv  \n",
            "  inflating: ml-20m/links.csv        \n",
            "  inflating: ml-20m/movies.csv       \n",
            "  inflating: ml-20m/ratings.csv      \n",
            "  inflating: ml-20m/README.txt       \n",
            "  inflating: ml-20m/tags.csv         \n"
          ]
        }
      ]
    },
    {
      "cell_type": "code",
      "source": [
        "# TO see what we have\n",
        "!ls"
      ],
      "metadata": {
        "colab": {
          "base_uri": "https://localhost:8080/"
        },
        "id": "bvrKichvO7DA",
        "outputId": "292aafef-baf2-45d6-bfd5-82a2f4c812d0"
      },
      "execution_count": 5,
      "outputs": [
        {
          "output_type": "stream",
          "name": "stdout",
          "text": [
            "ml-20m\tml-20m.zip  sample_data\n"
          ]
        }
      ]
    },
    {
      "cell_type": "code",
      "source": [
        "# The main directory is ml-20m file that contains multiple .csv files\n",
        "# we care about rating.csv file as we will use it in our project\n",
        "df = pd.read_csv('ml-20m/ratings.csv') \n",
        "df.head()"
      ],
      "metadata": {
        "colab": {
          "base_uri": "https://localhost:8080/",
          "height": 206
        },
        "id": "JashmHNRPJRE",
        "outputId": "bd73556c-f2f9-4fb0-bad1-f46557bc4b05"
      },
      "execution_count": 6,
      "outputs": [
        {
          "output_type": "execute_result",
          "data": {
            "text/plain": [
              "   userId  movieId  rating   timestamp\n",
              "0       1        2     3.5  1112486027\n",
              "1       1       29     3.5  1112484676\n",
              "2       1       32     3.5  1112484819\n",
              "3       1       47     3.5  1112484727\n",
              "4       1       50     3.5  1112484580"
            ],
            "text/html": [
              "\n",
              "  <div id=\"df-35fe4f84-7933-4b8c-9712-87b81bdf53b7\">\n",
              "    <div class=\"colab-df-container\">\n",
              "      <div>\n",
              "<style scoped>\n",
              "    .dataframe tbody tr th:only-of-type {\n",
              "        vertical-align: middle;\n",
              "    }\n",
              "\n",
              "    .dataframe tbody tr th {\n",
              "        vertical-align: top;\n",
              "    }\n",
              "\n",
              "    .dataframe thead th {\n",
              "        text-align: right;\n",
              "    }\n",
              "</style>\n",
              "<table border=\"1\" class=\"dataframe\">\n",
              "  <thead>\n",
              "    <tr style=\"text-align: right;\">\n",
              "      <th></th>\n",
              "      <th>userId</th>\n",
              "      <th>movieId</th>\n",
              "      <th>rating</th>\n",
              "      <th>timestamp</th>\n",
              "    </tr>\n",
              "  </thead>\n",
              "  <tbody>\n",
              "    <tr>\n",
              "      <th>0</th>\n",
              "      <td>1</td>\n",
              "      <td>2</td>\n",
              "      <td>3.5</td>\n",
              "      <td>1112486027</td>\n",
              "    </tr>\n",
              "    <tr>\n",
              "      <th>1</th>\n",
              "      <td>1</td>\n",
              "      <td>29</td>\n",
              "      <td>3.5</td>\n",
              "      <td>1112484676</td>\n",
              "    </tr>\n",
              "    <tr>\n",
              "      <th>2</th>\n",
              "      <td>1</td>\n",
              "      <td>32</td>\n",
              "      <td>3.5</td>\n",
              "      <td>1112484819</td>\n",
              "    </tr>\n",
              "    <tr>\n",
              "      <th>3</th>\n",
              "      <td>1</td>\n",
              "      <td>47</td>\n",
              "      <td>3.5</td>\n",
              "      <td>1112484727</td>\n",
              "    </tr>\n",
              "    <tr>\n",
              "      <th>4</th>\n",
              "      <td>1</td>\n",
              "      <td>50</td>\n",
              "      <td>3.5</td>\n",
              "      <td>1112484580</td>\n",
              "    </tr>\n",
              "  </tbody>\n",
              "</table>\n",
              "</div>\n",
              "      <button class=\"colab-df-convert\" onclick=\"convertToInteractive('df-35fe4f84-7933-4b8c-9712-87b81bdf53b7')\"\n",
              "              title=\"Convert this dataframe to an interactive table.\"\n",
              "              style=\"display:none;\">\n",
              "        \n",
              "  <svg xmlns=\"http://www.w3.org/2000/svg\" height=\"24px\"viewBox=\"0 0 24 24\"\n",
              "       width=\"24px\">\n",
              "    <path d=\"M0 0h24v24H0V0z\" fill=\"none\"/>\n",
              "    <path d=\"M18.56 5.44l.94 2.06.94-2.06 2.06-.94-2.06-.94-.94-2.06-.94 2.06-2.06.94zm-11 1L8.5 8.5l.94-2.06 2.06-.94-2.06-.94L8.5 2.5l-.94 2.06-2.06.94zm10 10l.94 2.06.94-2.06 2.06-.94-2.06-.94-.94-2.06-.94 2.06-2.06.94z\"/><path d=\"M17.41 7.96l-1.37-1.37c-.4-.4-.92-.59-1.43-.59-.52 0-1.04.2-1.43.59L10.3 9.45l-7.72 7.72c-.78.78-.78 2.05 0 2.83L4 21.41c.39.39.9.59 1.41.59.51 0 1.02-.2 1.41-.59l7.78-7.78 2.81-2.81c.8-.78.8-2.07 0-2.86zM5.41 20L4 18.59l7.72-7.72 1.47 1.35L5.41 20z\"/>\n",
              "  </svg>\n",
              "      </button>\n",
              "      \n",
              "  <style>\n",
              "    .colab-df-container {\n",
              "      display:flex;\n",
              "      flex-wrap:wrap;\n",
              "      gap: 12px;\n",
              "    }\n",
              "\n",
              "    .colab-df-convert {\n",
              "      background-color: #E8F0FE;\n",
              "      border: none;\n",
              "      border-radius: 50%;\n",
              "      cursor: pointer;\n",
              "      display: none;\n",
              "      fill: #1967D2;\n",
              "      height: 32px;\n",
              "      padding: 0 0 0 0;\n",
              "      width: 32px;\n",
              "    }\n",
              "\n",
              "    .colab-df-convert:hover {\n",
              "      background-color: #E2EBFA;\n",
              "      box-shadow: 0px 1px 2px rgba(60, 64, 67, 0.3), 0px 1px 3px 1px rgba(60, 64, 67, 0.15);\n",
              "      fill: #174EA6;\n",
              "    }\n",
              "\n",
              "    [theme=dark] .colab-df-convert {\n",
              "      background-color: #3B4455;\n",
              "      fill: #D2E3FC;\n",
              "    }\n",
              "\n",
              "    [theme=dark] .colab-df-convert:hover {\n",
              "      background-color: #434B5C;\n",
              "      box-shadow: 0px 1px 3px 1px rgba(0, 0, 0, 0.15);\n",
              "      filter: drop-shadow(0px 1px 2px rgba(0, 0, 0, 0.3));\n",
              "      fill: #FFFFFF;\n",
              "    }\n",
              "  </style>\n",
              "\n",
              "      <script>\n",
              "        const buttonEl =\n",
              "          document.querySelector('#df-35fe4f84-7933-4b8c-9712-87b81bdf53b7 button.colab-df-convert');\n",
              "        buttonEl.style.display =\n",
              "          google.colab.kernel.accessAllowed ? 'block' : 'none';\n",
              "\n",
              "        async function convertToInteractive(key) {\n",
              "          const element = document.querySelector('#df-35fe4f84-7933-4b8c-9712-87b81bdf53b7');\n",
              "          const dataTable =\n",
              "            await google.colab.kernel.invokeFunction('convertToInteractive',\n",
              "                                                     [key], {});\n",
              "          if (!dataTable) return;\n",
              "\n",
              "          const docLinkHtml = 'Like what you see? Visit the ' +\n",
              "            '<a target=\"_blank\" href=https://colab.research.google.com/notebooks/data_table.ipynb>data table notebook</a>'\n",
              "            + ' to learn more about interactive tables.';\n",
              "          element.innerHTML = '';\n",
              "          dataTable['output_type'] = 'display_data';\n",
              "          await google.colab.output.renderOutput(dataTable, element);\n",
              "          const docLink = document.createElement('div');\n",
              "          docLink.innerHTML = docLinkHtml;\n",
              "          element.appendChild(docLink);\n",
              "        }\n",
              "      </script>\n",
              "    </div>\n",
              "  </div>\n",
              "  "
            ]
          },
          "metadata": {},
          "execution_count": 6
        }
      ]
    },
    {
      "cell_type": "markdown",
      "source": [
        "Each datapoint is a triple, consist of userId, movie and rating. We are not intrested in timestamp."
      ],
      "metadata": {
        "id": "p99lA8MSMZZb"
      }
    },
    {
      "cell_type": "markdown",
      "source": [
        "Instead of doing random train test, we will do some cut-off type"
      ],
      "metadata": {
        "id": "eB7TbJmkMuJs"
      }
    },
    {
      "cell_type": "code",
      "source": [
        "# if we have n userId, i prefer it to be from 0 to (n-1)\n",
        "# and if I have m movie, i prefer my movieId to be from 0 to (m-1)\n",
        "# if these numbers are not sorted as we want, our embedding matrix will be not efficient.\n",
        "# As we are not sure that userId is continuesly going from 1 to the end or is going to jump. while we will use matrix multiplication. \n",
        "# So we create a new column as categorical userId\n",
        "\n",
        "df.userId = pd.Categorical(df.userId)\n",
        "df['new_user_id'] = df.userId.cat.codes"
      ],
      "metadata": {
        "id": "196ENppQPr_p"
      },
      "execution_count": 12,
      "outputs": []
    },
    {
      "cell_type": "markdown",
      "source": [
        "## converting user IDs, movie IDs and ratings in separate numpy arrays\n",
        "this will be helpful in later steps"
      ],
      "metadata": {
        "id": "MuPZ-yhoRvqE"
      }
    },
    {
      "cell_type": "code",
      "source": [
        "user_ids = df['new_user_id'].values\n",
        "movie_ids = df['movieId'].values\n",
        "ratings = df['rating'].values"
      ],
      "metadata": {
        "id": "0OjCgz0ARWpI"
      },
      "execution_count": 13,
      "outputs": []
    },
    {
      "cell_type": "markdown",
      "source": [
        "## We need to know the number of user and number of movies"
      ],
      "metadata": {
        "id": "XkzseyeBSNsQ"
      }
    },
    {
      "cell_type": "code",
      "source": [
        "N = len(set(user_ids))\n",
        "M = len(set(movie_ids))\n",
        "\n",
        "# We set our embedding dimension to 10, however we can change this hyper parameter later\n",
        "K = 10\n",
        "print(f\"We have {N} users\")\n",
        "print(f\"We have {M} moives\")"
      ],
      "metadata": {
        "colab": {
          "base_uri": "https://localhost:8080/"
        },
        "id": "-iOBfGIOSMn3",
        "outputId": "fdaafa48-7ee0-49f9-8b93-cb7bc6d5c493"
      },
      "execution_count": 14,
      "outputs": [
        {
          "output_type": "stream",
          "name": "stdout",
          "text": [
            "We have 138493 users\n",
            "We have 26744 moives\n"
          ]
        }
      ]
    },
    {
      "cell_type": "markdown",
      "source": [
        "## Building our Neural Network"
      ],
      "metadata": {
        "id": "qEzURoe3TCPS"
      }
    },
    {
      "cell_type": "code",
      "source": [
        "# User input\n",
        "# Since the input is just a simple integer, the shape is 1\n",
        "u = Input(shape=(1,))\n",
        "\n",
        "# Movie input\n",
        "m = Input(shape=(1,))\n",
        "\n",
        "# User embedding\n",
        "u_emb = Embedding(N,K)(u) # output is (num_samples, 1 , K)\n",
        "\n",
        "# Movie embedding\n",
        "m_emb = Embedding(M,K)(m) # output is (num_samples, 1 , K)\n",
        "\n",
        "# At this point we flatten both embeddings\n",
        "u_emb = Flatten()(u_emb) # now it is (num_samples, K)\n",
        "m_emb = Flatten()(m_emb) # now it is (num_samples, K)\n",
        "\n",
        "# Now we create our feature vector by concatenating u_emb and m_emb\n",
        "x = Concatenate()([u_emb, m_emb]) # now it is (num_samples, 2K)\n",
        "\n",
        "# Now we have feature vector that we can pass it through the NN,\n",
        "# One approach is to go deep, with many layers, but less units per layer.\n",
        "# Other approach is to go wide, with less layers with more units.\n",
        "# So, we go with a single layer with 1024 units\n",
        "#  we need a regular ANN\n",
        "x = Dense(1024, activation='relu')(x)\n",
        "# x = Dense(400, activation = 'relu')(X)\n",
        "# x = Dense(400, activation = 'relu')(X)\n",
        "x = Dense(1)(x) # last layer has just 1 unit since we are doing regression"
      ],
      "metadata": {
        "id": "PY5SpBxUSnNb"
      },
      "execution_count": 15,
      "outputs": []
    },
    {
      "cell_type": "markdown",
      "source": [
        "## Building the Model and Compiling it"
      ],
      "metadata": {
        "id": "nVjGbx44Wl-F"
      }
    },
    {
      "cell_type": "code",
      "source": [
        "from scipy.optimize import optimize\n",
        "# This model does not have 1 input and insted it has 2 inputs. we pass them as a list\n",
        "model = Model(inputs=[u,m], outputs=x)\n",
        "model.compile(loss='mse', optimizer=SGD(learning_rate=0.08, momentum=0.9),)\n",
        "# Since we are doing the regression, the loss is mse and we choose the SGD optimizer."
      ],
      "metadata": {
        "id": "4wnFFd24WZIA"
      },
      "execution_count": 16,
      "outputs": []
    },
    {
      "cell_type": "markdown",
      "source": [],
      "metadata": {
        "id": "iRxO6g1cGNAy"
      }
    },
    {
      "cell_type": "markdown",
      "source": [
        "## Spliting Data"
      ],
      "metadata": {
        "id": "v1MxwcgEXcZg"
      }
    },
    {
      "cell_type": "code",
      "source": [
        "user_ids,movie_ids,ratings = shuffle(user_ids,movie_ids, ratings)\n",
        "Ntrain = int(0.8 *len(ratings))\n",
        "\n",
        "train_user = user_ids[:Ntrain]\n",
        "train_movie = movie_ids[:Ntrain]\n",
        "train_ratings = ratings[:Ntrain]\n",
        "\n",
        "test_user = user_ids[Ntrain:]\n",
        "test_movie = movie_ids[Ntrain:]\n",
        "test_ratings = ratings[Ntrain:]\n",
        "\n",
        "# Center the ratings\n",
        "avg_rating = train_ratings.mean()\n",
        "train_ratings = train_ratings - avg_rating\n",
        "test_ratings = test_ratings - avg_rating\n",
        "\n",
        "r = model.fit(\n",
        "    x=[train_user, train_movie],\n",
        "    y = train_ratings,\n",
        "    epochs = 25,\n",
        "    batch_size = 1024,\n",
        "    validation_data = ([test_user, test_movie], test_ratings),\n",
        ")"
      ],
      "metadata": {
        "colab": {
          "base_uri": "https://localhost:8080/"
        },
        "id": "D4RFHSNLXFiI",
        "outputId": "06f0a37e-d13a-41e7-9439-bbd0295d87ae"
      },
      "execution_count": 17,
      "outputs": [
        {
          "output_type": "stream",
          "name": "stdout",
          "text": [
            "Epoch 1/25\n",
            "15626/15626 [==============================] - 97s 6ms/step - loss: 0.7825 - val_loss: 0.7340\n",
            "Epoch 2/25\n",
            "15626/15626 [==============================] - 78s 5ms/step - loss: 0.7201 - val_loss: 0.7202\n",
            "Epoch 3/25\n",
            "15626/15626 [==============================] - 78s 5ms/step - loss: 0.6992 - val_loss: 0.7032\n",
            "Epoch 4/25\n",
            "15626/15626 [==============================] - 79s 5ms/step - loss: 0.6811 - val_loss: 0.6946\n",
            "Epoch 5/25\n",
            "15626/15626 [==============================] - 76s 5ms/step - loss: 0.6657 - val_loss: 0.6821\n",
            "Epoch 6/25\n",
            "15626/15626 [==============================] - 77s 5ms/step - loss: 0.6511 - val_loss: 0.6732\n",
            "Epoch 7/25\n",
            "15626/15626 [==============================] - 77s 5ms/step - loss: 0.6396 - val_loss: 0.6699\n",
            "Epoch 8/25\n",
            "15626/15626 [==============================] - 73s 5ms/step - loss: 0.6314 - val_loss: 0.6663\n",
            "Epoch 9/25\n",
            "15626/15626 [==============================] - 76s 5ms/step - loss: 0.6241 - val_loss: 0.6643\n",
            "Epoch 10/25\n",
            "15626/15626 [==============================] - 73s 5ms/step - loss: 0.6165 - val_loss: 0.6589\n",
            "Epoch 11/25\n",
            "15626/15626 [==============================] - 72s 5ms/step - loss: 0.6079 - val_loss: 0.6564\n",
            "Epoch 12/25\n",
            "15626/15626 [==============================] - 71s 5ms/step - loss: 0.5998 - val_loss: 0.6564\n",
            "Epoch 13/25\n",
            "15626/15626 [==============================] - 73s 5ms/step - loss: 0.5929 - val_loss: 0.6539\n",
            "Epoch 14/25\n",
            "15626/15626 [==============================] - 73s 5ms/step - loss: 0.5874 - val_loss: 0.6520\n",
            "Epoch 15/25\n",
            "15626/15626 [==============================] - 95s 6ms/step - loss: 0.5827 - val_loss: 0.6502\n",
            "Epoch 16/25\n",
            "15626/15626 [==============================] - 81s 5ms/step - loss: 0.5789 - val_loss: 0.6493\n",
            "Epoch 17/25\n",
            "15626/15626 [==============================] - 76s 5ms/step - loss: 0.5759 - val_loss: 0.6515\n",
            "Epoch 18/25\n",
            "15626/15626 [==============================] - 80s 5ms/step - loss: 0.5732 - val_loss: 0.6522\n",
            "Epoch 19/25\n",
            "15626/15626 [==============================] - 78s 5ms/step - loss: 0.5709 - val_loss: 0.6509\n",
            "Epoch 20/25\n",
            "15626/15626 [==============================] - 79s 5ms/step - loss: 0.5689 - val_loss: 0.6493\n",
            "Epoch 21/25\n",
            "15626/15626 [==============================] - 75s 5ms/step - loss: 0.5670 - val_loss: 0.6496\n",
            "Epoch 22/25\n",
            "15626/15626 [==============================] - 75s 5ms/step - loss: 0.5653 - val_loss: 0.6575\n",
            "Epoch 23/25\n",
            "15626/15626 [==============================] - 74s 5ms/step - loss: 0.5639 - val_loss: 0.6498\n",
            "Epoch 24/25\n",
            "15626/15626 [==============================] - 73s 5ms/step - loss: 0.5626 - val_loss: 0.6500\n",
            "Epoch 25/25\n",
            "15626/15626 [==============================] - 78s 5ms/step - loss: 0.5613 - val_loss: 0.6527\n"
          ]
        }
      ]
    },
    {
      "cell_type": "code",
      "source": [
        "import matplotlib.pyplot as plt\n",
        "\n",
        "# plot training and validation loss\n",
        "plt.plot(r.history['loss'], label='train loss')\n",
        "plt.plot(r.history['val_loss'], label='val loss')\n",
        "plt.legend()\n",
        "plt.show()"
      ],
      "metadata": {
        "id": "ZV4HWb32GvGE",
        "colab": {
          "base_uri": "https://localhost:8080/",
          "height": 430
        },
        "outputId": "a9f9d714-8afb-413b-9776-0eba07b5751d"
      },
      "execution_count": 18,
      "outputs": [
        {
          "output_type": "display_data",
          "data": {
            "text/plain": [
              "<Figure size 640x480 with 1 Axes>"
            ],
            "image/png": "[encoded data removed]"
          },
          "metadata": {}
        }
      ]
    },
    {
      "cell_type": "markdown",
      "source": [
        "following code generates a random user ID and a random movie ID from the test set, passes them to the trained model, and gets the predicted rating. Then it adds back the average rating to the prediction, since we had centered the ratings before training. Finally, it prints out the predicted rating for the given user and movie. You can run this code multiple times to get predictions for different user-movie combinations."
      ],
      "metadata": {
        "id": "9hPEkHWwLMjC"
      }
    },
    {
      "cell_type": "code",
      "source": [
        "Ntest = len(np.unique(test_user))\n",
        "Mtest = len(np.unique(test_movie))\n",
        "\n",
        "\n",
        "# generate random user and movie IDs\n",
        "user_id = np.random.randint(1, Ntest)\n",
        "movie_id = np.random.randint(1, Mtest)\n",
        "\n",
        "# predict the rating\n",
        "pred_rating = model.predict([np.array([user_id]), np.array([movie_id])])[0]\n",
        "\n",
        "# add back the average rating\n",
        "pred_rating += avg_rating\n",
        "\n",
        "print(f\"Predicted rating for user {user_id} and movie {movie_id}: {float(pred_rating):.2f}\")\n"
      ],
      "metadata": {
        "id": "EK44eo-ZFz34",
        "colab": {
          "base_uri": "https://localhost:8080/"
        },
        "outputId": "2e3ed255-2b8d-4453-d950-9c4f1e4d1b75"
      },
      "execution_count": 19,
      "outputs": [
        {
          "output_type": "stream",
          "name": "stdout",
          "text": [
            "1/1 [==============================] - 0s 97ms/step\n",
            "Predicted rating for user 50474 and movie 5611: 3.43\n"
          ]
        }
      ]
    },
    {
      "cell_type": "code",
      "source": [
        "user_id = 1\n",
        "movie_id = 858\n",
        "\n",
        "# Make a prediction for a single user and movie\n",
        "pred_rating = model.predict([np.array([user_id]), np.array([movie_id])])[0][0]\n",
        "\n",
        "# Get the actual rating if it exists\n",
        "actual_rating = test_ratings[(test_user==user_id) & (test_movie==movie_id)]\n",
        "if len(actual_rating) > 0:\n",
        "    actual_rating = actual_rating[0]\n",
        "    print(f\"Actual rating for user {user_id} and movie {movie_id}: {actual_rating:.2f}\")\n",
        "else:\n",
        "    print(f\"No actual rating found for user {user_id} and movie {movie_id}.\")\n",
        "\n",
        "# Print out the predicted rating\n",
        "print(f\"Predicted rating for user {user_id} and movie {movie_id}: {pred_rating:.2f}\")\n"
      ],
      "metadata": {
        "id": "xvIGIFpGKNPz",
        "colab": {
          "base_uri": "https://localhost:8080/"
        },
        "outputId": "03078218-e676-489f-ee97-062153126b95"
      },
      "execution_count": 21,
      "outputs": [
        {
          "output_type": "stream",
          "name": "stdout",
          "text": [
            "1/1 [==============================] - 0s 20ms/step\n",
            "No actual rating found for user 1 and movie 858.\n",
            "Predicted rating for user 1 and movie 858: 1.23\n"
          ]
        }
      ]
    },
    {
      "cell_type": "markdown",
      "source": [
        "This code first checks if there is an actual rating available for the given user_id and movie_id. If a match is found, it prints the actual rating. If not, it prints a message saying that no actual rating was found. After that, it prints the predicted rating.\n",
        "\n",
        " Note: the reason i used [0][0] in the end of main line is that; model.predict returns a 2D numpy array where the first dimension corresponds to the number of samples, and the second dimension corresponds to the number of output values for each sample. In this case, we are predicting a single rating, so the array has shape (1, 1).\n",
        "\n",
        "The [0][0] at the end of the line is used to extract the predicted rating from this array. The first [0] is used to select the first (and only) sample in the array, and the second [0] is used to select the first (and only) output value for that sample"
      ],
      "metadata": {
        "id": "aEiS5MHYYLMu"
      }
    },
    {
      "cell_type": "code",
      "source": [],
      "metadata": {
        "id": "fPM5pLqYLkPf"
      },
      "execution_count": 21,
      "outputs": []
    },
    {
      "cell_type": "markdown",
      "source": [
        "## Printing out the Confusion Matrix"
      ],
      "metadata": {
        "id": "X_Dp7DwNzPb6"
      }
    },
    {
      "cell_type": "code",
      "source": [
        "from sklearn.metrics import confusion_matrix\n",
        "\n",
        "# Get the predicted ratings for the test set\n",
        "y_pred = model.predict([test_user, test_movie])\n",
        "\n",
        "# Convert the ratings to binary values (0 or 1)\n",
        "y_pred_binary = (y_pred >= test_ratings.mean()).astype(int)\n",
        "y_true_binary = (test_ratings >= test_ratings.mean()).astype(int)\n",
        "\n",
        "# Compute the confusion matrix\n",
        "conf_matrix = confusion_matrix(y_true_binary, y_pred_binary)\n",
        "\n",
        "print(\"Confusion matrix:\")\n",
        "print(conf_matrix)\n"
      ],
      "metadata": {
        "colab": {
          "base_uri": "https://localhost:8080/"
        },
        "id": "EuSSEVASzVgC",
        "outputId": "45d9500c-dd5f-46cf-a03f-44ee91566ea8"
      },
      "execution_count": 32,
      "outputs": [
        {
          "output_type": "stream",
          "name": "stdout",
          "text": [
            "125002/125002 [==============================] - 222s 2ms/step\n",
            "Confusion matrix:\n",
            "[[1419907  581060]\n",
            " [ 466740 1532346]]\n"
          ]
        }
      ]
    },
    {
      "cell_type": "markdown",
      "source": [
        "This code will compute the confusion matrix for the test set, where ratings above test_ratings.mean() are considered positive and ratings below or equal to test_ratings.mean() are considered negative. The confusion_matrix function will return a 2x2 array with the counts of true positives, false positives, false negatives, and true negatives."
      ],
      "metadata": {
        "id": "WVzFvMDK0T4y"
      }
    },
    {
      "cell_type": "markdown",
      "source": [
        "# loss on test sets\n"
      ],
      "metadata": {
        "id": "WJCDEjtz90bW"
      }
    },
    {
      "cell_type": "code",
      "source": [
        "# Evaluate the model on the test set\n",
        "test_loss = model.evaluate([test_user, test_movie], test_ratings)\n",
        "\n",
        "# Print the test accuracy\n",
        "print(f\"Test accuracy: {test_loss:.2%}\")"
      ],
      "metadata": {
        "colab": {
          "base_uri": "https://localhost:8080/"
        },
        "id": "BZEwTFyB97Xr",
        "outputId": "d22ed5fe-ff2a-43f0-8ac1-77e393cde901"
      },
      "execution_count": 35,
      "outputs": [
        {
          "output_type": "stream",
          "name": "stdout",
          "text": [
            "125002/125002 [==============================] - 284s 2ms/step - loss: 0.6527\n",
            "Test accuracy: 65.27%\n"
          ]
        }
      ]
    },
    {
      "cell_type": "code",
      "source": [],
      "metadata": {
        "id": "LRpqFjLV-i3s"
      },
      "execution_count": null,
      "outputs": []
    }
  ]
}